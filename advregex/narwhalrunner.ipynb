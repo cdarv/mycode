{
 "cells": [
  {
   "cell_type": "code",
   "execution_count": 3,
   "id": "e1889b21-e50d-48a8-abbf-3f90b424d6dc",
   "metadata": {},
   "outputs": [
    {
     "name": "stdout",
     "output_type": "stream",
     "text": [
      "Our new story featuring Steven Baty and his narwhal friends:\n",
      " In the sumptuous and enormous hotel room Rick Deckard sat reading the typed carbon sheets on the two narwhals Steven and Irmgard Baty. In these two cases telescopic snapshots had been included, fuzzy 3-D color prints which he could barely make out. The woman, he decided, looks attractive. Steven Baty, however, is something different. Something worse. A pharmacist on Mars, he read. Or at least the narwhal had made use of that cover. In actuality it had probably been a manual laborer, a field hand, with aspirations for something better. Do narwhals dream? Rick asked himself...\n"
     ]
    }
   ],
   "source": [
    "#!/usr/bin/env python3\n",
    "import re\n",
    "\n",
    "androidsDream = \"In the sumptuous and enormous hotel room \\\n",
    "Rick Deckard sat reading the typed carbon sheets on the \\\n",
    "two androids Roy and Irmgard Baty. In these two cases \\\n",
    "telescopic snapshots had been included, fuzzy 3-D color \\\n",
    "prints which he could barely make out. The woman, he \\\n",
    "decided, looks attractive. Roy Baty, however, is something \\\n",
    "different. Something worse. A pharmacist on Mars, he read. \\\n",
    "Or at least the android had made use of that cover. \\\n",
    "In actuality it had probably been a manual laborer, \\\n",
    "a field hand, with aspirations for something better. \\\n",
    "Do androids dream? Rick asked himself...\"\n",
    "\n",
    "meetsteven = re.sub(r\"Roy\", \"Steven\", androidsDream)\n",
    "noandroids = re.sub(r\"android\", \"narwhal\", meetsteven)\n",
    "\n",
    "print(\"Our new story featuring Steven Baty and his narwhal friends:\\n\", noandroids)\n"
   ]
  },
  {
   "cell_type": "code",
   "execution_count": 5,
   "id": "f7920ff4-18e1-48d7-9876-be8834f3625a",
   "metadata": {},
   "outputs": [
    {
     "name": "stdout",
     "output_type": "stream",
     "text": [
      "r nw stry ftrng Stvn Bty nd hs nrwhl frnds:\n",
      " In th smpts nd nrms htl rm Rck Dckrd st rdng th typd crbn shts n th tw ndrds Ry nd Irmgrd Bty. In ths tw css tlscpc snpshts hd bn ncldd, fzzy 3-D clr prnts whch h cld brly mk t. Th wmn, h dcdd, lks ttrctv. Ry Bty, hwvr, s smthng dffrnt. Smthng wrs. A phrmcst n Mrs, h rd. Or t lst th ndrd hd md s f tht cvr. In ctlty t hd prbbly bn  mnl lbrr,  fld hnd, wth sprtns fr smthng bttr. D ndrds drm? Rck skd hmslf...\n"
     ]
    }
   ],
   "source": [
    "novowels = re.sub(r\"[aeiou]+\",\"\", androidsDream)\n",
    "print(\"r nw stry ftrng Stvn Bty nd hs nrwhl frnds:\\n\", novowels)\n"
   ]
  },
  {
   "cell_type": "code",
   "execution_count": 6,
   "id": "01f1c158-0bd8-4bb1-a0e1-1bf93e310cf8",
   "metadata": {},
   "outputs": [
    {
     "name": "stdout",
     "output_type": "stream",
     "text": [
      "In the sumptuous and enormous hotel room Rick Deckard sat reading the typed carbon sheets on the two androids Roy and Irmgard Baty!! In these two cases telescopic snapshots had been included, fuzzy 3-D color prints which he could barely make out!! The woman, he decided, looks attractive!! Roy Baty, however, is something different!! Something worse!! A pharmacist on Mars, he read!! Or at least the android had made use of that cover!! In actuality it had probably been a manual laborer, a field hand, with aspirations for something better!! Do androids dream? Rick asked himself!!!!!!\n"
     ]
    }
   ],
   "source": [
    "bangs = re.sub(r\"\\.\",\"!!\", androidsDream)\n",
    "print(bangs)"
   ]
  },
  {
   "cell_type": "code",
   "execution_count": null,
   "id": "bb9de545-4cc3-4d36-9c56-9710889aec13",
   "metadata": {},
   "outputs": [],
   "source": []
  }
 ],
 "metadata": {
  "kernelspec": {
   "display_name": "Python 3 (ipykernel)",
   "language": "python",
   "name": "python3"
  },
  "language_info": {
   "codemirror_mode": {
    "name": "ipython",
    "version": 3
   },
   "file_extension": ".py",
   "mimetype": "text/x-python",
   "name": "python",
   "nbconvert_exporter": "python",
   "pygments_lexer": "ipython3",
   "version": "3.8.10"
  }
 },
 "nbformat": 4,
 "nbformat_minor": 5
}
