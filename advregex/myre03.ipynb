{
 "cells": [
  {
   "cell_type": "code",
   "execution_count": 5,
   "id": "27334702-d620-42a8-b43f-7f19aeb695f0",
   "metadata": {},
   "outputs": [
    {
     "name": "stdout",
     "output_type": "stream",
     "text": [
      "Results of re.findall(r'wo\\w+', wood): ['wood', 'would', 'woodchuck', 'woodchuck', 'wood']\n"
     ]
    }
   ],
   "source": [
    "#!/usr/bin/env python3\n",
    "import re\n",
    "\n",
    "wood = \"How much wood would a woodchuck chuck if a woodchuck could chuck wood?\"\n",
    "\n",
    "search1 = re.findall(r\"wo\\w+\", wood)        # r\"...\" for raw string the \\w search for a \"word\"\n",
    "print(\"Results of re.findall(r'wo\\w+', wood):\", search1)\n"
   ]
  },
  {
   "cell_type": "code",
   "execution_count": 6,
   "id": "3d90805f-883c-4b13-8645-9566f66a0447",
   "metadata": {},
   "outputs": [
    {
     "name": "stdout",
     "output_type": "stream",
     "text": [
      "Results of re.findall(r'o+', wood): ['o', 'oo', 'o', 'oo', 'oo', 'o', 'oo']\n"
     ]
    }
   ],
   "source": [
    "search2 = re.findall(r\"o+\", wood)\n",
    "print(\"Results of re.findall(r'o+', wood):\", search2)\n"
   ]
  },
  {
   "cell_type": "code",
   "execution_count": 8,
   "id": "84627817-11a6-4cc8-bcfe-a9298b8584d1",
   "metadata": {},
   "outputs": [
    {
     "name": "stdout",
     "output_type": "stream",
     "text": [
      "Results of re.findall(r'carrots', wood): []\n"
     ]
    }
   ],
   "source": [
    "search3 = re.findall(r\"carrots\", wood)\n",
    "print(\"Results of re.findall(r'carrots', wood):\", search3)\n"
   ]
  },
  {
   "cell_type": "code",
   "execution_count": 12,
   "id": "2d8b06b2-6468-4630-9bbb-657d23c61aae",
   "metadata": {},
   "outputs": [
    {
     "name": "stdout",
     "output_type": "stream",
     "text": [
      "Results of re.findall(r'th\\w+', hobbit): ['the', 'there', 'the', 'thing', 'that', 'thole', 'the', 'thout']\n",
      "8\n"
     ]
    }
   ],
   "source": [
    "hobbit = \"In a hole in the ground there lived a hobbit. \\\n",
    "Not a nasty, dirty, wet hole, filled with the ends of \\\n",
    "worms and an oozy smell, nor yet a dry, bare, sandy \\\n",
    "hole with nothing in it to sit down on or to eat: \\\n",
    "it was a hobbit-hole, and that means comfort. It \\\n",
    "had a perfectly round door like a porthole, \\\n",
    "painted green, with a shiny yellow brass knob \\\n",
    "in the exact middle. The door opened on to a \\\n",
    "tube-shaped hall like a tunnel: a very comfortable tunnel \\\n",
    "without smoke, with paneled walls, and floors tiled \\\n",
    "and carpeted, provided with polished chairs...\"\n",
    "\n",
    "search4 = re.findall(r\"th\\w+\", hobbit)\n",
    "print(\"Results of re.findall(r'th\\w+', hobbit):\", search4)\n",
    "print(len(search4))"
   ]
  },
  {
   "cell_type": "code",
   "execution_count": 11,
   "id": "9062ad83-6f54-4edc-a6de-ef313ff4f2e5",
   "metadata": {
    "tags": []
   },
   "outputs": [
    {
     "name": "stdout",
     "output_type": "stream",
     "text": [
      "Results of re.findall(r'th\\w+', hobbit, re.IGNORECASE): ['the', 'there', 'the', 'thing', 'that', 'thole', 'the', 'The', 'thout']\n",
      "9\n"
     ]
    }
   ],
   "source": [
    "igCAPSsearch5 = re.findall(r\"th\\w+\", hobbit, re.IGNORECASE)\n",
    "print(\"Results of re.findall(r'th\\w+', hobbit, re.IGNORECASE):\", igCAPSsearch5)\n",
    "print(len(igCAPSsearch5))"
   ]
  },
  {
   "cell_type": "code",
   "execution_count": null,
   "id": "c9541b83-ef9c-41e5-83c2-d7a0818349c2",
   "metadata": {},
   "outputs": [],
   "source": []
  }
 ],
 "metadata": {
  "kernelspec": {
   "display_name": "Python 3 (ipykernel)",
   "language": "python",
   "name": "python3"
  },
  "language_info": {
   "codemirror_mode": {
    "name": "ipython",
    "version": 3
   },
   "file_extension": ".py",
   "mimetype": "text/x-python",
   "name": "python",
   "nbconvert_exporter": "python",
   "pygments_lexer": "ipython3",
   "version": "3.8.10"
  }
 },
 "nbformat": 4,
 "nbformat_minor": 5
}
