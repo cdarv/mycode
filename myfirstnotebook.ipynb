{
 "cells": [
  {
   "cell_type": "markdown",
   "id": "8b29064b-1ed4-4566-95b9-410877b8b4f4",
   "metadata": {
    "tags": []
   },
   "source": [
    "# Header-- Welcome to Jupyter Notebook!\n",
    "- This is markdown\n",
    "- An easy way to create lovely dispay output. Press shift enter to run a cell and open the next one\n",
    "Press shift enter to run a cell and open the next one"
   ]
  },
  {
   "cell_type": "code",
   "execution_count": 8,
   "id": "4e383f29-a8f5-426d-b834-14042565a580",
   "metadata": {},
   "outputs": [],
   "source": [
    "import requests"
   ]
  },
  {
   "cell_type": "code",
   "execution_count": 10,
   "id": "44000470-c328-42f5-9578-f4df3f26a5e0",
   "metadata": {},
   "outputs": [],
   "source": [
    "url = \"https://statsapi.web.nhl.com/api/v1/teams\""
   ]
  },
  {
   "cell_type": "code",
   "execution_count": 18,
   "id": "1fa367c7-faa2-412c-9295-d8349a3c6207",
   "metadata": {},
   "outputs": [
    {
     "name": "stdout",
     "output_type": "stream",
     "text": [
      "New Jersey Devils\n",
      "New York Islanders\n",
      "New York Rangers\n",
      "Philadelphia Flyers\n",
      "Pittsburgh Penguins\n",
      "Boston Bruins\n",
      "Buffalo Sabres\n",
      "Montréal Canadiens\n",
      "Ottawa Senators\n",
      "Toronto Maple Leafs\n",
      "Carolina Hurricanes\n",
      "Florida Panthers\n",
      "Tampa Bay Lightning\n",
      "Washington Capitals\n",
      "Chicago Blackhawks\n",
      "Detroit Red Wings\n",
      "Nashville Predators\n",
      "St. Louis Blues\n",
      "Calgary Flames\n",
      "Colorado Avalanche\n",
      "Edmonton Oilers\n",
      "Vancouver Canucks\n",
      "Anaheim Ducks\n",
      "Dallas Stars\n",
      "Los Angeles Kings\n",
      "San Jose Sharks\n",
      "Columbus Blue Jackets\n",
      "Minnesota Wild\n",
      "Winnipeg Jets\n",
      "Arizona Coyotes\n",
      "Vegas Golden Knights\n",
      "Seattle Kraken\n"
     ]
    }
   ],
   "source": [
    "# Send a get request and save response as a variable\n",
    "resp = requests.get(url)\n",
    "\n",
    "for team in resp.json()[\"teams\"]:\n",
    "        print(team[\"name\"])"
   ]
  },
  {
   "cell_type": "code",
   "execution_count": null,
   "id": "d7631b23-a643-4583-a955-248f4507ce96",
   "metadata": {},
   "outputs": [],
   "source": []
  }
 ],
 "metadata": {
  "kernelspec": {
   "display_name": "Python 3 (ipykernel)",
   "language": "python",
   "name": "python3"
  },
  "language_info": {
   "codemirror_mode": {
    "name": "ipython",
    "version": 3
   },
   "file_extension": ".py",
   "mimetype": "text/x-python",
   "name": "python",
   "nbconvert_exporter": "python",
   "pygments_lexer": "ipython3",
   "version": "3.8.10"
  }
 },
 "nbformat": 4,
 "nbformat_minor": 5
}
