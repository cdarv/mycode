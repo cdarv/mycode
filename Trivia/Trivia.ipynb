{
 "cells": [
  {
   "cell_type": "code",
   "execution_count": 1,
   "id": "b82a7c4d-52f6-4e07-838e-698c6ee3b263",
   "metadata": {},
   "outputs": [
    {
     "ename": "SyntaxError",
     "evalue": "invalid syntax (460900551.py, line 16)",
     "output_type": "error",
     "traceback": [
      "\u001b[0;36m  Input \u001b[0;32mIn [1]\u001b[0;36m\u001b[0m\n\u001b[0;31m    print(html.unescape((x['correct_answer']))\u001b[0m\n\u001b[0m    ^\u001b[0m\n\u001b[0;31mSyntaxError\u001b[0m\u001b[0;31m:\u001b[0m invalid syntax\n"
     ]
    }
   ],
   "source": [
    "\"\"\"Friday Warmup | Returning Data From Complex JSON\"\"\"\n",
    "\n",
    "import requests\n",
    "import pandas as pd\n",
    "import html\n",
    "\n",
    "URL= \"https://opentdb.com/api.php?amount=10&difficulty=medium&type=multiple\"\n",
    "\n",
    "def main():\n",
    "    \n",
    "    # data will be a python dictionary rendered from your API link's JSON!\n",
    "    data = requests.get(URL).json()\n",
    "   \n",
    "    for x in data[\"results\"]:\n",
    "       print(html.unescape((x['question']))\n",
    "       print(html.unescape((x['correct_answer']))\n",
    "       for y in x[\"incorrect_answers\"]:\n",
    "             print(html.unescape((y))\n",
    "\n",
    "\n",
    "if __name__ == \"__main__\":\n",
    "    main()\n",
    "    \n",
    "  \n"
   ]
  },
  {
   "cell_type": "code",
   "execution_count": null,
   "id": "fb900804-53e4-4566-a1b8-b4f1b39cbdb4",
   "metadata": {},
   "outputs": [],
   "source": []
  }
 ],
 "metadata": {
  "kernelspec": {
   "display_name": "Python 3 (ipykernel)",
   "language": "python",
   "name": "python3"
  },
  "language_info": {
   "codemirror_mode": {
    "name": "ipython",
    "version": 3
   },
   "file_extension": ".py",
   "mimetype": "text/x-python",
   "name": "python",
   "nbconvert_exporter": "python",
   "pygments_lexer": "ipython3",
   "version": "3.8.10"
  }
 },
 "nbformat": 4,
 "nbformat_minor": 5
}
