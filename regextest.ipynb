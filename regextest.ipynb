{
 "cells": [
  {
   "cell_type": "code",
   "execution_count": 2,
   "id": "985a7903-88a8-46e0-bb16-710cd23d930a",
   "metadata": {},
   "outputs": [
    {
     "name": "stdout",
     "output_type": "stream",
     "text": [
      "['919.367.7887', '898*982*9304', '6308520397', '786-307-3615']\n"
     ]
    }
   ],
   "source": [
    "import re\n",
    "\n",
    "txt = \"919.367.7887,898*982*9304,6308520397,786-307-3615,789,123765,1-1-1,+982\"\n",
    "x = re.findall(r\"\\d{3}.?\\d{3}.?\\d{4}\", txt)\n",
    "print(x)"
   ]
  },
  {
   "cell_type": "code",
   "execution_count": null,
   "id": "b1645248-03d6-421c-86bf-a862712d8153",
   "metadata": {},
   "outputs": [],
   "source": []
  }
 ],
 "metadata": {
  "kernelspec": {
   "display_name": "Python 3 (ipykernel)",
   "language": "python",
   "name": "python3"
  },
  "language_info": {
   "codemirror_mode": {
    "name": "ipython",
    "version": 3
   },
   "file_extension": ".py",
   "mimetype": "text/x-python",
   "name": "python",
   "nbconvert_exporter": "python",
   "pygments_lexer": "ipython3",
   "version": "3.8.10"
  }
 },
 "nbformat": 4,
 "nbformat_minor": 5
}
