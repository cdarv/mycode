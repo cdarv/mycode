{
 "cells": [
  {
   "cell_type": "code",
   "execution_count": 14,
   "id": "50992ac2-b99d-4869-8331-790c6c66fac5",
   "metadata": {},
   "outputs": [
    {
     "data": {
      "text/plain": [
       "['ears', 'dark', 'ease', 'ask']"
      ]
     },
     "execution_count": 14,
     "metadata": {},
     "output_type": "execute_result"
    }
   ],
   "source": [
    "import re\n",
    "hitchhiker = \"The only person for whom the house was in any way special \\\n",
    "was Arthur Dent, and that was only because it happened to be the one he \\\n",
    "lived in. He had lived in it for about three years, ever since he had \\\n",
    "moved out of London because it made him nervous and irritable. He was \\\n",
    "about thirty as well, dark haired and never quite at ease with himself. \\\n",
    "The thing that used to worry him most was the fact that people always \\\n",
    "used to ask him what he was looking so worried about. He worked in local \\\n",
    "radio...\"\n",
    "\n",
    "mycomp = re.compile(r'\\w?a[sr]\\w+') #compiling regex in mycomp\n",
    "\n",
    "hikerexample = mycomp.findall(hitchhiker)\n",
    "hikerexample"
   ]
  },
  {
   "cell_type": "code",
   "execution_count": 3,
   "id": "8e1cb4f7-cc46-4495-94c1-2715d049db22",
   "metadata": {},
   "outputs": [
    {
     "data": {
      "text/plain": [
       "['where', 'letters', 'alphanumeric']"
      ]
     },
     "execution_count": 3,
     "metadata": {},
     "output_type": "execute_result"
    }
   ],
   "source": [
    "stringexample = mycomp.findall(\"This expression looks for places \\\n",
    "where a combination of the letters er exist and are also surrounded \\\n",
    "by at least one case insensitive alphanumeric.\")\n",
    "stringexample"
   ]
  },
  {
   "cell_type": "code",
   "execution_count": null,
   "id": "e4a69554-b2b7-4975-9ea2-129d03421824",
   "metadata": {},
   "outputs": [
    {
     "name": "stdout",
     "output_type": "stream",
     "text": [
      "\n",
      "Compiling Regular Expression Objects is very efficient.\n",
      "\n"
     ]
    }
   ],
   "source": [
    "print(\"\\nCompiling Regular Expression Objects is very efficient.\\n\")\n"
   ]
  }
 ],
 "metadata": {
  "kernelspec": {
   "display_name": "Python 3 (ipykernel)",
   "language": "python",
   "name": "python3"
  },
  "language_info": {
   "codemirror_mode": {
    "name": "ipython",
    "version": 3
   },
   "file_extension": ".py",
   "mimetype": "text/x-python",
   "name": "python",
   "nbconvert_exporter": "python",
   "pygments_lexer": "ipython3",
   "version": "3.8.10"
  }
 },
 "nbformat": 4,
 "nbformat_minor": 5
}
